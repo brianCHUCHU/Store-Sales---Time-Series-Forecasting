{
  "cells": [
    {
      "cell_type": "markdown",
      "metadata": {},
      "source": [
        "## 模型訓練"
      ]
    },
    {
      "cell_type": "markdown",
      "metadata": {
        "id": "e6jlRXUwS6Kz"
      },
      "source": [
        "### 讀取資料"
      ]
    },
    {
      "cell_type": "code",
      "execution_count": 370,
      "metadata": {
        "id": "siJzE3ttcNvI"
      },
      "outputs": [],
      "source": [
        "import pandas as pd\n",
        "import numpy as np"
      ]
    },
    {
      "cell_type": "code",
      "execution_count": 371,
      "metadata": {
        "colab": {
          "base_uri": "https://localhost:8080/",
          "height": 373
        },
        "id": "1s6TC9qrd3hg",
        "outputId": "d34ad28f-8594-4b5b-9289-0f61f8cafb4c"
      },
      "outputs": [],
      "source": [
        "train_df = pd.read_csv(\"train.csv\")\n",
        "holiday_event_df = pd.read_csv(\"holidays_events.csv\")\n",
        "stores_df = pd.read_csv(\"stores.csv\")\n",
        "transaction_df = pd.read_csv(\"transactions.csv\")\n",
        "oil_df = pd.read_csv(\"oil.csv\")"
      ]
    },
    {
      "cell_type": "markdown",
      "metadata": {
        "id": "ikQyHbDjS9tt"
      },
      "source": [
        "擷取2015/08/15~2017/08/15的資料（共兩年）"
      ]
    },
    {
      "cell_type": "code",
      "execution_count": 372,
      "metadata": {
        "id": "BoWzpI94gS1q"
      },
      "outputs": [],
      "source": [
        "train_df['date'] = pd.to_datetime(train_df['date'])\n",
        "holiday_event_df['date'] = pd.to_datetime(holiday_event_df['date'])\n",
        "oil_df['date'] = pd.to_datetime(oil_df['date'])\n",
        "transaction_df['date'] = pd.to_datetime(transaction_df['date'])\n",
        "train_df = train_df[(train_df['date'] >= '2015-08-15') & (train_df['date'] <= '2017-12-31')]\n",
        "holiday_event_df = holiday_event_df[(holiday_event_df['date'] >= '2015-08-15') & (holiday_event_df['date'] <= '2017-12-31')]\n",
        "oil_df = oil_df[(oil_df['date'] >= '2015-08-15') & (oil_df['date'] <= '2017-12-31')]\n",
        "transaction_df = transaction_df[(transaction_df['date'] >= '2015-08-15') & (transaction_df['date'] <= '2017-12-31')]"
      ]
    },
    {
      "cell_type": "markdown",
      "metadata": {
        "id": "y_Jrzhw7TIE6"
      },
      "source": [
        "### 合併資料"
      ]
    },
    {
      "cell_type": "code",
      "execution_count": 373,
      "metadata": {
        "id": "ckNOJUh6eUhg"
      },
      "outputs": [],
      "source": [
        "train_df = pd.merge(train_df, oil_df, on='date', how='left')\n",
        "train_df = pd.merge(train_df, stores_df, on='store_nbr', how='left')\n",
        "train_df = pd.merge(train_df, transaction_df, on=['date', 'store_nbr'], how='left')"
      ]
    },
    {
      "cell_type": "code",
      "execution_count": 374,
      "metadata": {
        "colab": {
          "base_uri": "https://localhost:8080/",
          "height": 211
        },
        "id": "KHJoakmHoiCV",
        "outputId": "c12d384c-19a2-4576-c70c-60433a79d631"
      },
      "outputs": [],
      "source": [
        "# holiday_event_df如果是National的資料就按照date合併；是其他的資料就按照date、city合併\n",
        "national_df = holiday_event_df[holiday_event_df['locale'] == 'National']\n",
        "national_df = national_df.drop_duplicates(subset='date', keep='first')\n",
        "train_national_df = pd.merge(train_df, national_df, on='date', how='left')\n",
        "non_national_df = holiday_event_df[holiday_event_df['locale'] != 'National']\n",
        "non_national_df = non_national_df.drop_duplicates(subset=['date', 'locale_name'], keep='first')\n",
        "train_non_national_df = pd.merge(train_df, non_national_df, left_on=['date', 'city'], right_on=['date', 'locale_name'], how='left')\n",
        "train_df = train_national_df.combine_first(train_non_national_df)"
      ]
    },
    {
      "cell_type": "markdown",
      "metadata": {
        "id": "iSPCTl68pbRc"
      },
      "source": [
        "欄位名稱轉換（因為原始資料集有兩個type欄位分別在holiday_event_df跟stores_df）"
      ]
    },
    {
      "cell_type": "code",
      "execution_count": 375,
      "metadata": {
        "id": "K_8qbMxqeXvn"
      },
      "outputs": [],
      "source": [
        "train_df = train_df.rename(columns={'type_x': 'store_type', 'type_y': 'event_type'})"
      ]
    },
    {
      "cell_type": "markdown",
      "metadata": {
        "id": "LfKLMKT4uHJD"
      },
      "source": [
        "### 特徵工程\n",
        "1. 日期欄位拆分\n",
        "2. 數值欄位 min-max normalization\n",
        "3. 類別欄位做 one hot encoding"
      ]
    },
    {
      "cell_type": "code",
      "execution_count": 376,
      "metadata": {
        "id": "58RA8hIDsIM2"
      },
      "outputs": [],
      "source": [
        "# 日期欄位拆分\n",
        "train_df['year'] = train_df['date'].dt.year\n",
        "train_df['month'] = train_df['date'].dt.month\n",
        "train_df['day'] = train_df['date'].dt.day\n",
        "train_df['day_of_week'] = train_df['date'].dt.dayofweek"
      ]
    },
    {
      "cell_type": "code",
      "execution_count": 377,
      "metadata": {
        "id": "iemN5u_Xpzu_"
      },
      "outputs": [],
      "source": [
        "# 數值欄位 min-max normalization\n",
        "columns_to_normalize = ['onpromotion', 'dcoilwtico', 'transactions']\n",
        "train_df[columns_to_normalize] = (train_df[columns_to_normalize] - train_df[columns_to_normalize].min()) / (train_df[columns_to_normalize].max() - train_df[columns_to_normalize].min())"
      ]
    },
    {
      "cell_type": "markdown",
      "metadata": {
        "id": "MObR8EiJT7V-"
      },
      "source": [
        "新增經緯度欄位"
      ]
    },
    {
      "cell_type": "code",
      "execution_count": 378,
      "metadata": {
        "id": "o7_cRfCkMXEf"
      },
      "outputs": [],
      "source": [
        "cities_coordinates = {\n",
        "    \"Quito\": {\"lat\": -0.1806532, \"lon\": -78.4678382},\n",
        "    \"Guayaquil\": {\"lat\": -2.1709979, \"lon\": -79.9223592},\n",
        "    \"Santo Domingo\": {\"lat\": -0.2530494, \"lon\": -79.1753765},\n",
        "    \"Cuenca\": {\"lat\": -2.9001285, \"lon\": -79.0058965},\n",
        "    \"Latacunga\": {\"lat\": -0.9393387, \"lon\": -78.6155545},\n",
        "    \"Manta\": {\"lat\": -0.9676533, \"lon\": -80.7089101},\n",
        "    \"Machala\": {\"lat\": -3.2581112, \"lon\": -79.9553924},\n",
        "    \"Ambato\": {\"lat\": -1.2416666, \"lon\": -78.6195459},\n",
        "    \"Quevedo\": {\"lat\": -1.0225124, \"lon\": -79.4604035},\n",
        "    \"Esmeraldas\": {\"lat\": 0.9681789, \"lon\": -79.6517202},\n",
        "    \"Loja\": {\"lat\": -3.9931283, \"lon\": -79.2042216},\n",
        "    \"Libertad\": {\"lat\": -2.2311612, \"lon\": -80.9008852},\n",
        "    \"Playas\": {\"lat\": -2.6284683, \"lon\": -80.3895886},\n",
        "    \"Daule\": {\"lat\": -1.8621807, \"lon\": -79.9776688},\n",
        "    \"Babahoyo\": {\"lat\": -1.8019264, \"lon\": -79.5346458},\n",
        "    \"Cayambe\": {\"lat\": 0.0430556, \"lon\": -78.1459943},\n",
        "    \"Salinas\": {\"lat\": -2.2171001, \"lon\": -80.9586051},\n",
        "    \"Puyo\": {\"lat\": -1.4923925, \"lon\": -78.0024134},\n",
        "    \"Guaranda\": {\"lat\": -1.5904732, \"lon\": -79.0022925},\n",
        "    \"Ibarra\": {\"lat\": 0.3517083, \"lon\": -78.1223373},\n",
        "    \"Riobamba\": {\"lat\": -1.6635508, \"lon\": -78.654646},\n",
        "    \"El Carmen\": {\"lat\": -0.2687816, \"lon\": -79.466199}\n",
        "}\n",
        "\n",
        "train_df['coordinates'] = train_df['city'].map(cities_coordinates)\n",
        "\n",
        "train_df['longitude'] = train_df['coordinates'].map(lambda x: x['lon'] if x is not None else None)\n",
        "train_df['latitude'] = train_df['coordinates'].map(lambda x: x['lat'] if x is not None else None)\n",
        "\n",
        "train_df.drop('coordinates', axis=1, inplace=True)"
      ]
    },
    {
      "cell_type": "markdown",
      "metadata": {
        "id": "NtdppfYVUCc6"
      },
      "source": [
        "把sales欄位放到資料集最後，作為y_train"
      ]
    },
    {
      "cell_type": "code",
      "execution_count": 379,
      "metadata": {
        "id": "aEW6PqSWCVRH"
      },
      "outputs": [],
      "source": [
        "cols = [col for col in train_df.columns if col != 'sales']\n",
        "cols.append('sales')\n",
        "train_df = train_df[cols]"
      ]
    },
    {
      "cell_type": "markdown",
      "metadata": {},
      "source": [
        "類別欄位處理"
      ]
    },
    {
      "cell_type": "code",
      "execution_count": 380,
      "metadata": {},
      "outputs": [],
      "source": [
        "def replace_transfer(row):\n",
        "    if row['event_type'] == 'Holiday':\n",
        "        return row['transferred'] != 1\n",
        "    elif row['event_type'] == 'Transfer':\n",
        "        return 1\n",
        "    elif row['event_type'] == 'Additional':\n",
        "        return 1\n",
        "    elif row['event_type'] == 'Bridge':\n",
        "        return 1\n",
        "    return 0\n",
        "\n",
        "def isEvent(row):\n",
        "    if row['event_type'] == 'Event':\n",
        "        return 1\n",
        "    return 0\n",
        "\n",
        "train_df['isHoliday'] = train_df.apply(replace_transfer, axis=1)\n",
        "train_df['isEvent'] = train_df.apply(isEvent, axis=1)\n",
        "train_df['isHoliday'] = train_df['isHoliday'].astype(bool)"
      ]
    },
    {
      "cell_type": "markdown",
      "metadata": {},
      "source": [
        "one hot encoding"
      ]
    },
    {
      "cell_type": "code",
      "execution_count": 381,
      "metadata": {},
      "outputs": [],
      "source": [
        "train_df = pd.get_dummies(train_df, columns=['store_type'])        "
      ]
    },
    {
      "cell_type": "code",
      "execution_count": 382,
      "metadata": {},
      "outputs": [
        {
          "data": {
            "text/html": [
              "<div>\n",
              "<style scoped>\n",
              "    .dataframe tbody tr th:only-of-type {\n",
              "        vertical-align: middle;\n",
              "    }\n",
              "\n",
              "    .dataframe tbody tr th {\n",
              "        vertical-align: top;\n",
              "    }\n",
              "\n",
              "    .dataframe thead th {\n",
              "        text-align: right;\n",
              "    }\n",
              "</style>\n",
              "<table border=\"1\" class=\"dataframe\">\n",
              "  <thead>\n",
              "    <tr style=\"text-align: right;\">\n",
              "      <th></th>\n",
              "      <th>id</th>\n",
              "      <th>store_nbr</th>\n",
              "      <th>onpromotion</th>\n",
              "      <th>dcoilwtico</th>\n",
              "      <th>cluster</th>\n",
              "      <th>transactions</th>\n",
              "      <th>year</th>\n",
              "      <th>month</th>\n",
              "      <th>day</th>\n",
              "      <th>day_of_week</th>\n",
              "      <th>longitude</th>\n",
              "      <th>latitude</th>\n",
              "      <th>sales</th>\n",
              "      <th>isHoliday</th>\n",
              "      <th>isEvent</th>\n",
              "      <th>store_type_A</th>\n",
              "      <th>store_type_B</th>\n",
              "      <th>store_type_C</th>\n",
              "      <th>store_type_D</th>\n",
              "      <th>store_type_E</th>\n",
              "    </tr>\n",
              "  </thead>\n",
              "  <tbody>\n",
              "    <tr>\n",
              "      <th>0</th>\n",
              "      <td>1700028</td>\n",
              "      <td>1</td>\n",
              "      <td>0.000000</td>\n",
              "      <td>NaN</td>\n",
              "      <td>13</td>\n",
              "      <td>0.164472</td>\n",
              "      <td>2015</td>\n",
              "      <td>8</td>\n",
              "      <td>15</td>\n",
              "      <td>5</td>\n",
              "      <td>-78.467838</td>\n",
              "      <td>-0.180653</td>\n",
              "      <td>3.000</td>\n",
              "      <td>False</td>\n",
              "      <td>0</td>\n",
              "      <td>False</td>\n",
              "      <td>False</td>\n",
              "      <td>False</td>\n",
              "      <td>True</td>\n",
              "      <td>False</td>\n",
              "    </tr>\n",
              "    <tr>\n",
              "      <th>1</th>\n",
              "      <td>1700029</td>\n",
              "      <td>1</td>\n",
              "      <td>0.000000</td>\n",
              "      <td>NaN</td>\n",
              "      <td>13</td>\n",
              "      <td>0.164472</td>\n",
              "      <td>2015</td>\n",
              "      <td>8</td>\n",
              "      <td>15</td>\n",
              "      <td>5</td>\n",
              "      <td>-78.467838</td>\n",
              "      <td>-0.180653</td>\n",
              "      <td>0.000</td>\n",
              "      <td>False</td>\n",
              "      <td>0</td>\n",
              "      <td>False</td>\n",
              "      <td>False</td>\n",
              "      <td>False</td>\n",
              "      <td>True</td>\n",
              "      <td>False</td>\n",
              "    </tr>\n",
              "    <tr>\n",
              "      <th>2</th>\n",
              "      <td>1700030</td>\n",
              "      <td>1</td>\n",
              "      <td>0.000000</td>\n",
              "      <td>NaN</td>\n",
              "      <td>13</td>\n",
              "      <td>0.164472</td>\n",
              "      <td>2015</td>\n",
              "      <td>8</td>\n",
              "      <td>15</td>\n",
              "      <td>5</td>\n",
              "      <td>-78.467838</td>\n",
              "      <td>-0.180653</td>\n",
              "      <td>0.000</td>\n",
              "      <td>False</td>\n",
              "      <td>0</td>\n",
              "      <td>False</td>\n",
              "      <td>False</td>\n",
              "      <td>False</td>\n",
              "      <td>True</td>\n",
              "      <td>False</td>\n",
              "    </tr>\n",
              "    <tr>\n",
              "      <th>3</th>\n",
              "      <td>1700031</td>\n",
              "      <td>1</td>\n",
              "      <td>0.006748</td>\n",
              "      <td>NaN</td>\n",
              "      <td>13</td>\n",
              "      <td>0.164472</td>\n",
              "      <td>2015</td>\n",
              "      <td>8</td>\n",
              "      <td>15</td>\n",
              "      <td>5</td>\n",
              "      <td>-78.467838</td>\n",
              "      <td>-0.180653</td>\n",
              "      <td>2845.000</td>\n",
              "      <td>False</td>\n",
              "      <td>0</td>\n",
              "      <td>False</td>\n",
              "      <td>False</td>\n",
              "      <td>False</td>\n",
              "      <td>True</td>\n",
              "      <td>False</td>\n",
              "    </tr>\n",
              "    <tr>\n",
              "      <th>4</th>\n",
              "      <td>1700032</td>\n",
              "      <td>1</td>\n",
              "      <td>0.000000</td>\n",
              "      <td>NaN</td>\n",
              "      <td>13</td>\n",
              "      <td>0.164472</td>\n",
              "      <td>2015</td>\n",
              "      <td>8</td>\n",
              "      <td>15</td>\n",
              "      <td>5</td>\n",
              "      <td>-78.467838</td>\n",
              "      <td>-0.180653</td>\n",
              "      <td>0.000</td>\n",
              "      <td>False</td>\n",
              "      <td>0</td>\n",
              "      <td>False</td>\n",
              "      <td>False</td>\n",
              "      <td>False</td>\n",
              "      <td>True</td>\n",
              "      <td>False</td>\n",
              "    </tr>\n",
              "    <tr>\n",
              "      <th>...</th>\n",
              "      <td>...</td>\n",
              "      <td>...</td>\n",
              "      <td>...</td>\n",
              "      <td>...</td>\n",
              "      <td>...</td>\n",
              "      <td>...</td>\n",
              "      <td>...</td>\n",
              "      <td>...</td>\n",
              "      <td>...</td>\n",
              "      <td>...</td>\n",
              "      <td>...</td>\n",
              "      <td>...</td>\n",
              "      <td>...</td>\n",
              "      <td>...</td>\n",
              "      <td>...</td>\n",
              "      <td>...</td>\n",
              "      <td>...</td>\n",
              "      <td>...</td>\n",
              "      <td>...</td>\n",
              "      <td>...</td>\n",
              "    </tr>\n",
              "    <tr>\n",
              "      <th>1300855</th>\n",
              "      <td>3000883</td>\n",
              "      <td>9</td>\n",
              "      <td>0.000000</td>\n",
              "      <td>0.755744</td>\n",
              "      <td>6</td>\n",
              "      <td>0.257362</td>\n",
              "      <td>2017</td>\n",
              "      <td>8</td>\n",
              "      <td>15</td>\n",
              "      <td>1</td>\n",
              "      <td>-78.467838</td>\n",
              "      <td>-0.180653</td>\n",
              "      <td>438.133</td>\n",
              "      <td>False</td>\n",
              "      <td>0</td>\n",
              "      <td>False</td>\n",
              "      <td>True</td>\n",
              "      <td>False</td>\n",
              "      <td>False</td>\n",
              "      <td>False</td>\n",
              "    </tr>\n",
              "    <tr>\n",
              "      <th>1300856</th>\n",
              "      <td>3000884</td>\n",
              "      <td>9</td>\n",
              "      <td>0.001350</td>\n",
              "      <td>0.755744</td>\n",
              "      <td>6</td>\n",
              "      <td>0.257362</td>\n",
              "      <td>2017</td>\n",
              "      <td>8</td>\n",
              "      <td>15</td>\n",
              "      <td>1</td>\n",
              "      <td>-78.467838</td>\n",
              "      <td>-0.180653</td>\n",
              "      <td>154.553</td>\n",
              "      <td>False</td>\n",
              "      <td>0</td>\n",
              "      <td>False</td>\n",
              "      <td>True</td>\n",
              "      <td>False</td>\n",
              "      <td>False</td>\n",
              "      <td>False</td>\n",
              "    </tr>\n",
              "    <tr>\n",
              "      <th>1300857</th>\n",
              "      <td>3000885</td>\n",
              "      <td>9</td>\n",
              "      <td>0.199730</td>\n",
              "      <td>0.755744</td>\n",
              "      <td>6</td>\n",
              "      <td>0.257362</td>\n",
              "      <td>2017</td>\n",
              "      <td>8</td>\n",
              "      <td>15</td>\n",
              "      <td>1</td>\n",
              "      <td>-78.467838</td>\n",
              "      <td>-0.180653</td>\n",
              "      <td>2419.729</td>\n",
              "      <td>False</td>\n",
              "      <td>0</td>\n",
              "      <td>False</td>\n",
              "      <td>True</td>\n",
              "      <td>False</td>\n",
              "      <td>False</td>\n",
              "      <td>False</td>\n",
              "    </tr>\n",
              "    <tr>\n",
              "      <th>1300858</th>\n",
              "      <td>3000886</td>\n",
              "      <td>9</td>\n",
              "      <td>0.010796</td>\n",
              "      <td>0.755744</td>\n",
              "      <td>6</td>\n",
              "      <td>0.257362</td>\n",
              "      <td>2017</td>\n",
              "      <td>8</td>\n",
              "      <td>15</td>\n",
              "      <td>1</td>\n",
              "      <td>-78.467838</td>\n",
              "      <td>-0.180653</td>\n",
              "      <td>121.000</td>\n",
              "      <td>False</td>\n",
              "      <td>0</td>\n",
              "      <td>False</td>\n",
              "      <td>True</td>\n",
              "      <td>False</td>\n",
              "      <td>False</td>\n",
              "      <td>False</td>\n",
              "    </tr>\n",
              "    <tr>\n",
              "      <th>1300859</th>\n",
              "      <td>3000887</td>\n",
              "      <td>9</td>\n",
              "      <td>0.000000</td>\n",
              "      <td>0.755744</td>\n",
              "      <td>6</td>\n",
              "      <td>0.257362</td>\n",
              "      <td>2017</td>\n",
              "      <td>8</td>\n",
              "      <td>15</td>\n",
              "      <td>1</td>\n",
              "      <td>-78.467838</td>\n",
              "      <td>-0.180653</td>\n",
              "      <td>16.000</td>\n",
              "      <td>False</td>\n",
              "      <td>0</td>\n",
              "      <td>False</td>\n",
              "      <td>True</td>\n",
              "      <td>False</td>\n",
              "      <td>False</td>\n",
              "      <td>False</td>\n",
              "    </tr>\n",
              "  </tbody>\n",
              "</table>\n",
              "<p>1300860 rows × 20 columns</p>\n",
              "</div>"
            ],
            "text/plain": [
              "              id  store_nbr  onpromotion  dcoilwtico  cluster  transactions  \\\n",
              "0        1700028          1     0.000000         NaN       13      0.164472   \n",
              "1        1700029          1     0.000000         NaN       13      0.164472   \n",
              "2        1700030          1     0.000000         NaN       13      0.164472   \n",
              "3        1700031          1     0.006748         NaN       13      0.164472   \n",
              "4        1700032          1     0.000000         NaN       13      0.164472   \n",
              "...          ...        ...          ...         ...      ...           ...   \n",
              "1300855  3000883          9     0.000000    0.755744        6      0.257362   \n",
              "1300856  3000884          9     0.001350    0.755744        6      0.257362   \n",
              "1300857  3000885          9     0.199730    0.755744        6      0.257362   \n",
              "1300858  3000886          9     0.010796    0.755744        6      0.257362   \n",
              "1300859  3000887          9     0.000000    0.755744        6      0.257362   \n",
              "\n",
              "         year  month  day  day_of_week  longitude  latitude     sales  \\\n",
              "0        2015      8   15            5 -78.467838 -0.180653     3.000   \n",
              "1        2015      8   15            5 -78.467838 -0.180653     0.000   \n",
              "2        2015      8   15            5 -78.467838 -0.180653     0.000   \n",
              "3        2015      8   15            5 -78.467838 -0.180653  2845.000   \n",
              "4        2015      8   15            5 -78.467838 -0.180653     0.000   \n",
              "...       ...    ...  ...          ...        ...       ...       ...   \n",
              "1300855  2017      8   15            1 -78.467838 -0.180653   438.133   \n",
              "1300856  2017      8   15            1 -78.467838 -0.180653   154.553   \n",
              "1300857  2017      8   15            1 -78.467838 -0.180653  2419.729   \n",
              "1300858  2017      8   15            1 -78.467838 -0.180653   121.000   \n",
              "1300859  2017      8   15            1 -78.467838 -0.180653    16.000   \n",
              "\n",
              "         isHoliday  isEvent  store_type_A  store_type_B  store_type_C  \\\n",
              "0            False        0         False         False         False   \n",
              "1            False        0         False         False         False   \n",
              "2            False        0         False         False         False   \n",
              "3            False        0         False         False         False   \n",
              "4            False        0         False         False         False   \n",
              "...            ...      ...           ...           ...           ...   \n",
              "1300855      False        0         False          True         False   \n",
              "1300856      False        0         False          True         False   \n",
              "1300857      False        0         False          True         False   \n",
              "1300858      False        0         False          True         False   \n",
              "1300859      False        0         False          True         False   \n",
              "\n",
              "         store_type_D  store_type_E  \n",
              "0                True         False  \n",
              "1                True         False  \n",
              "2                True         False  \n",
              "3                True         False  \n",
              "4                True         False  \n",
              "...               ...           ...  \n",
              "1300855         False         False  \n",
              "1300856         False         False  \n",
              "1300857         False         False  \n",
              "1300858         False         False  \n",
              "1300859         False         False  \n",
              "\n",
              "[1300860 rows x 20 columns]"
            ]
          },
          "execution_count": 382,
          "metadata": {},
          "output_type": "execute_result"
        }
      ],
      "source": [
        "df = train_df.drop(columns=['family', 'description', 'date', 'event_type', 'city', 'state','locale', 'locale_name','transferred'])  \n",
        "df     "
      ]
    },
    {
      "cell_type": "markdown",
      "metadata": {},
      "source": [
        "### 切分資料集並訓練"
      ]
    },
    {
      "cell_type": "code",
      "execution_count": 383,
      "metadata": {},
      "outputs": [],
      "source": [
        "from sklearn.model_selection import train_test_split\n",
        "\n",
        "def rmsle(y, y_pred):\n",
        "    return np.sqrt(np.mean(np.power(np.log1p(y) - np.log1p(y_pred), 2)))\n",
        "\n",
        "X = df.drop(['sales', 'id'], axis=1)\n",
        "y = df['sales']\n",
        "\n",
        "X_train, X_test, y_train, y_test = train_test_split(X, y, test_size=0.2, random_state=42)"
      ]
    },
    {
      "cell_type": "code",
      "execution_count": 384,
      "metadata": {},
      "outputs": [
        {
          "name": "stdout",
          "output_type": "stream",
          "text": [
            "2.4390155622289047\n"
          ]
        },
        {
          "name": "stderr",
          "output_type": "stream",
          "text": [
            "C:\\Users\\cxh83\\AppData\\Local\\Temp\\ipykernel_15420\\560898000.py:4: RuntimeWarning: invalid value encountered in log1p\n",
            "  return np.sqrt(np.mean(np.power(np.log1p(y) - np.log1p(y_pred), 2)))\n"
          ]
        }
      ],
      "source": [
        "# xgboost\n",
        "\n",
        "import xgboost as xgb\n",
        "\n",
        "xgb_model = xgb.XGBRegressor(learning_rate=0.05, random_state=42)\n",
        "xgb_model.fit(X_train, y_train)\n",
        "y_pred = xgb_model.predict(X_test)\n",
        "\n",
        "xgb_result = rmsle(y_test, y_pred)\n",
        "\n",
        "print(xgb_result)"
      ]
    },
    {
      "cell_type": "code",
      "execution_count": 386,
      "metadata": {},
      "outputs": [
        {
          "name": "stdout",
          "output_type": "stream",
          "text": [
            "2.316773729317185\n"
          ]
        }
      ],
      "source": [
        "# random forest\n",
        "from sklearn.ensemble import RandomForestRegressor\n",
        "\n",
        "rf_model = RandomForestRegressor(random_state=42)\n",
        "rf_model.fit(X_train, y_train)\n",
        "y_pred = rf_model.predict(X_test)\n",
        "\n",
        "rf_result = rmsle(y_test, y_pred)\n",
        "print(rf_result)"
      ]
    },
    {
      "cell_type": "code",
      "execution_count": 387,
      "metadata": {},
      "outputs": [
        {
          "name": "stdout",
          "output_type": "stream",
          "text": [
            "[LightGBM] [Info] Auto-choosing row-wise multi-threading, the overhead of testing was 0.046382 seconds.\n",
            "You can set `force_row_wise=true` to remove the overhead.\n",
            "And if memory is not enough, you can set `force_col_wise=true`.\n",
            "[LightGBM] [Info] Total Bins 945\n",
            "[LightGBM] [Info] Number of data points in the train set: 1040688, number of used features: 18\n",
            "[LightGBM] [Info] Start training from score 456.040645\n",
            "2.527259196499325\n"
          ]
        }
      ],
      "source": [
        "# lightgbm\n",
        "import lightgbm as lgb\n",
        "\n",
        "lgb_model = lgb.LGBMRegressor(learning_rate=0.05, random_state=42)\n",
        "lgb_model.fit(X_train, y_train)\n",
        "\n",
        "y_pred = lgb_model.predict(X_test)\n",
        "\n",
        "lgb_result = rmsle(y_test, y_pred)\n",
        "print(lgb_result)"
      ]
    },
    {
      "cell_type": "code",
      "execution_count": 388,
      "metadata": {},
      "outputs": [
        {
          "name": "stdout",
          "output_type": "stream",
          "text": [
            "2.400728593418986\n"
          ]
        },
        {
          "name": "stderr",
          "output_type": "stream",
          "text": [
            "C:\\Users\\cxh83\\AppData\\Local\\Temp\\ipykernel_15420\\560898000.py:4: RuntimeWarning: invalid value encountered in log1p\n",
            "  return np.sqrt(np.mean(np.power(np.log1p(y) - np.log1p(y_pred), 2)))\n"
          ]
        }
      ],
      "source": [
        "# catboost\n",
        "from catboost import CatBoostRegressor\n",
        "\n",
        "cat_model = CatBoostRegressor(learning_rate=0.05, random_state=42, verbose=0)\n",
        "cat_model.fit(X_train, y_train)\n",
        "\n",
        "y_pred = cat_model.predict(X_test)\n",
        "\n",
        "cat_result = rmsle(y_test, y_pred)\n",
        "print(cat_result)"
      ]
    },
    {
      "cell_type": "code",
      "execution_count": 389,
      "metadata": {},
      "outputs": [
        {
          "name": "stdout",
          "output_type": "stream",
          "text": [
            "[LightGBM] [Info] Auto-choosing col-wise multi-threading, the overhead of testing was 0.068746 seconds.\n",
            "You can set `force_col_wise=true` to remove the overhead.\n",
            "[LightGBM] [Info] Total Bins 945\n",
            "[LightGBM] [Info] Number of data points in the train set: 1040688, number of used features: 18\n",
            "[LightGBM] [Info] Start training from score 456.040645\n",
            "2.4487202662171796\n"
          ]
        },
        {
          "name": "stderr",
          "output_type": "stream",
          "text": [
            "C:\\Users\\cxh83\\AppData\\Local\\Temp\\ipykernel_15420\\560898000.py:4: RuntimeWarning: invalid value encountered in log1p\n",
            "  return np.sqrt(np.mean(np.power(np.log1p(y) - np.log1p(y_pred), 2)))\n"
          ]
        }
      ],
      "source": [
        "# LightGBM\n",
        "import lightgbm as lgb\n",
        "\n",
        "lgb_model = lgb.LGBMRegressor(random_state=42)\n",
        "lgb_model.fit(X_train, y_train)\n",
        "y_pred = lgb_model.predict(X_test)\n",
        "\n",
        "lgb_result = rmsle(y_test, y_pred)\n",
        "print(lgb_result)"
      ]
    },
    {
      "cell_type": "code",
      "execution_count": 390,
      "metadata": {},
      "outputs": [
        {
          "name": "stdout",
          "output_type": "stream",
          "text": [
            "2.387750271108479\n"
          ]
        },
        {
          "name": "stderr",
          "output_type": "stream",
          "text": [
            "C:\\Users\\cxh83\\AppData\\Local\\Temp\\ipykernel_15420\\560898000.py:4: RuntimeWarning: invalid value encountered in log1p\n",
            "  return np.sqrt(np.mean(np.power(np.log1p(y) - np.log1p(y_pred), 2)))\n"
          ]
        }
      ],
      "source": [
        "# CatBoost\n",
        "from catboost import CatBoostRegressor\n",
        "\n",
        "cat_model = CatBoostRegressor(random_state=42, verbose=0)\n",
        "\n",
        "cat_model.fit(X_train, y_train)\n",
        "y_pred = cat_model.predict(X_test)\n",
        "\n",
        "cat_result = rmsle(y_test, y_pred)\n",
        "print(cat_result)"
      ]
    },
    {
      "cell_type": "markdown",
      "metadata": {},
      "source": [
        "### 繪製模型表現"
      ]
    },
    {
      "cell_type": "code",
      "execution_count": 391,
      "metadata": {},
      "outputs": [
        {
          "data": {
            "image/png": "[encoded data removed]",
            "text/plain": [
              "<Figure size 800x400 with 1 Axes>"
            ]
          },
          "metadata": {},
          "output_type": "display_data"
        }
      ],
      "source": [
        "import matplotlib.pyplot as plt\n",
        "\n",
        "# 模型\n",
        "models = ['Random Forest', 'Xgboost', 'LightGBM', 'Catboost']\n",
        "\n",
        "# rmsle\n",
        "rmsle_values = [2.173, 2.258, 2.363, 2.302]\n",
        "\n",
        "plt.figure(figsize=(8, 4))\n",
        "bars = plt.bar(models, rmsle_values, color='skyblue')\n",
        "plt.xlabel('Models')\n",
        "plt.ylabel('RMSLE')\n",
        "plt.title('RMSLE Values of Different Models')\n",
        "plt.ylim(0, max(rmsle_values) * 1.1) \n",
        "plt.grid(axis='y')\n",
        "\n",
        "# 在每个长条的顶部写上数值\n",
        "for bar in bars:\n",
        "    yval = bar.get_height()\n",
        "    plt.text(bar.get_x() + bar.get_width() / 2, yval, round(yval, 3), va='bottom', ha='center')\n",
        "\n",
        "plt.show()\n"
      ]
    },
    {
      "cell_type": "markdown",
      "metadata": {},
      "source": [
        "### 最終模型訓練"
      ]
    },
    {
      "cell_type": "code",
      "execution_count": 392,
      "metadata": {},
      "outputs": [
        {
          "name": "stdout",
          "output_type": "stream",
          "text": [
            "[LightGBM] [Info] Auto-choosing row-wise multi-threading, the overhead of testing was 0.049859 seconds.\n",
            "You can set `force_row_wise=true` to remove the overhead.\n",
            "And if memory is not enough, you can set `force_col_wise=true`.\n",
            "[LightGBM] [Info] Total Bins 945\n",
            "[LightGBM] [Info] Number of data points in the train set: 1300860, number of used features: 18\n",
            "[LightGBM] [Info] Start training from score 455.482145\n"
          ]
        },
        {
          "data": {
            "text/plain": [
              "<catboost.core.CatBoostRegressor at 0x25fc3cd3b20>"
            ]
          },
          "execution_count": 392,
          "metadata": {},
          "output_type": "execute_result"
        }
      ],
      "source": [
        "xgb_model.fit(X, y)\n",
        "rf_model.fit(X, y)\n",
        "lgb_model.fit(X, y)\n",
        "cat_model.fit(X, y)"
      ]
    },
    {
      "cell_type": "markdown",
      "metadata": {},
      "source": [
        "## 模型預測"
      ]
    },
    {
      "cell_type": "markdown",
      "metadata": {},
      "source": [
        "### 讀取資料"
      ]
    },
    {
      "cell_type": "code",
      "execution_count": 393,
      "metadata": {},
      "outputs": [],
      "source": [
        "test_df = pd.read_csv(\"test.csv\")\n",
        "holiday_event_df = pd.read_csv(\"holidays_events.csv\")\n",
        "stores_df = pd.read_csv(\"stores.csv\")\n",
        "# transaction_df = pd.read_csv(\"testing_transactions.csv\")\n",
        "oil_df = pd.read_csv(\"oil.csv\")"
      ]
    },
    {
      "cell_type": "markdown",
      "metadata": {},
      "source": [
        "### 合併資料"
      ]
    },
    {
      "cell_type": "code",
      "execution_count": 394,
      "metadata": {},
      "outputs": [],
      "source": [
        "test_df['date'] = pd.to_datetime(test_df['date'])\n",
        "holiday_event_df['date'] = pd.to_datetime(holiday_event_df['date'])\n",
        "oil_df['date'] = pd.to_datetime(oil_df['date'])\n",
        "transaction_df['date'] = pd.to_datetime(transaction_df['date'])"
      ]
    },
    {
      "cell_type": "code",
      "execution_count": 395,
      "metadata": {},
      "outputs": [],
      "source": [
        "test_df = pd.merge(test_df, oil_df, on='date', how='left')\n",
        "test_df = pd.merge(test_df, stores_df, on='store_nbr', how='left')\n",
        "test_df = pd.merge(test_df, transaction_df, on=['date', 'store_nbr'], how='left')"
      ]
    },
    {
      "cell_type": "code",
      "execution_count": 396,
      "metadata": {},
      "outputs": [],
      "source": [
        "# holiday_event_df如果是National的資料就按照date合併；是其他的資料就按照date、city合併\n",
        "test_national_df = pd.merge(test_df, national_df, on='date', how='left')\n",
        "test_non_national_df = pd.merge(test_df, non_national_df, left_on=['date', 'city'], right_on=['date', 'locale_name'], how='left')\n",
        "test_df = test_national_df.combine_first(test_non_national_df)"
      ]
    },
    {
      "cell_type": "markdown",
      "metadata": {},
      "source": [
        "欄位名稱轉換（因為原始資料集有兩個type欄位分別在holiday_event_df跟stores_df）"
      ]
    },
    {
      "cell_type": "code",
      "execution_count": 397,
      "metadata": {},
      "outputs": [],
      "source": [
        "test_df = test_df.rename(columns={'type_x': 'store_type', 'type_y': 'event_type'})"
      ]
    },
    {
      "cell_type": "markdown",
      "metadata": {},
      "source": [
        "### 特徵工程\n",
        "1. 日期欄位拆分\n",
        "2. 數值欄位 min-max normalization\n",
        "3. 類別欄位做 one hot encoding"
      ]
    },
    {
      "cell_type": "code",
      "execution_count": 398,
      "metadata": {},
      "outputs": [],
      "source": [
        "# 日期欄位拆分\n",
        "test_df['year'] = test_df['date'].dt.year\n",
        "test_df['month'] = test_df['date'].dt.month\n",
        "test_df['day'] = test_df['date'].dt.day\n",
        "test_df['day_of_week'] = test_df['date'].dt.dayofweek"
      ]
    },
    {
      "cell_type": "code",
      "execution_count": 399,
      "metadata": {},
      "outputs": [],
      "source": [
        "# 數值欄位 min-max normalization\n",
        "columns_to_normalize = ['onpromotion', 'dcoilwtico', 'transactions']\n",
        "test_df[columns_to_normalize] = (test_df[columns_to_normalize] - test_df[columns_to_normalize].min()) / (test_df[columns_to_normalize].max() - test_df[columns_to_normalize].min())"
      ]
    },
    {
      "cell_type": "markdown",
      "metadata": {},
      "source": [
        "新增經緯度欄位"
      ]
    },
    {
      "cell_type": "code",
      "execution_count": 400,
      "metadata": {},
      "outputs": [],
      "source": [
        "cities_coordinates = {\n",
        "    \"Quito\": {\"lat\": -0.1806532, \"lon\": -78.4678382},\n",
        "    \"Guayaquil\": {\"lat\": -2.1709979, \"lon\": -79.9223592},\n",
        "    \"Santo Domingo\": {\"lat\": -0.2530494, \"lon\": -79.1753765},\n",
        "    \"Cuenca\": {\"lat\": -2.9001285, \"lon\": -79.0058965},\n",
        "    \"Latacunga\": {\"lat\": -0.9393387, \"lon\": -78.6155545},\n",
        "    \"Manta\": {\"lat\": -0.9676533, \"lon\": -80.7089101},\n",
        "    \"Machala\": {\"lat\": -3.2581112, \"lon\": -79.9553924},\n",
        "    \"Ambato\": {\"lat\": -1.2416666, \"lon\": -78.6195459},\n",
        "    \"Quevedo\": {\"lat\": -1.0225124, \"lon\": -79.4604035},\n",
        "    \"Esmeraldas\": {\"lat\": 0.9681789, \"lon\": -79.6517202},\n",
        "    \"Loja\": {\"lat\": -3.9931283, \"lon\": -79.2042216},\n",
        "    \"Libertad\": {\"lat\": -2.2311612, \"lon\": -80.9008852},\n",
        "    \"Playas\": {\"lat\": -2.6284683, \"lon\": -80.3895886},\n",
        "    \"Daule\": {\"lat\": -1.8621807, \"lon\": -79.9776688},\n",
        "    \"Babahoyo\": {\"lat\": -1.8019264, \"lon\": -79.5346458},\n",
        "    \"Cayambe\": {\"lat\": 0.0430556, \"lon\": -78.1459943},\n",
        "    \"Salinas\": {\"lat\": -2.2171001, \"lon\": -80.9586051},\n",
        "    \"Puyo\": {\"lat\": -1.4923925, \"lon\": -78.0024134},\n",
        "    \"Guaranda\": {\"lat\": -1.5904732, \"lon\": -79.0022925},\n",
        "    \"Ibarra\": {\"lat\": 0.3517083, \"lon\": -78.1223373},\n",
        "    \"Riobamba\": {\"lat\": -1.6635508, \"lon\": -78.654646},\n",
        "    \"El Carmen\": {\"lat\": -0.2687816, \"lon\": -79.466199}\n",
        "}\n",
        "\n",
        "test_df['coordinates'] = test_df['city'].map(cities_coordinates)\n",
        "\n",
        "test_df['longitude'] = test_df['coordinates'].map(lambda x: x['lon'] if x is not None else None)\n",
        "test_df['latitude'] = test_df['coordinates'].map(lambda x: x['lat'] if x is not None else None)\n",
        "\n",
        "test_df.drop('coordinates', axis=1, inplace=True)"
      ]
    },
    {
      "cell_type": "markdown",
      "metadata": {},
      "source": [
        "處理假期與活動資訊"
      ]
    },
    {
      "cell_type": "code",
      "execution_count": 401,
      "metadata": {},
      "outputs": [],
      "source": [
        "test_df['isHoliday'] = test_df.apply(replace_transfer, axis=1)\n",
        "test_df['isEvent'] = test_df.apply(isEvent, axis=1)\n",
        "test_df['isHoliday'] = test_df['isHoliday'].astype(bool)"
      ]
    },
    {
      "cell_type": "markdown",
      "metadata": {},
      "source": [
        "one hot encoding"
      ]
    },
    {
      "cell_type": "code",
      "execution_count": 402,
      "metadata": {},
      "outputs": [],
      "source": [
        "test_df = pd.get_dummies(test_df, columns=['store_type'])"
      ]
    },
    {
      "cell_type": "markdown",
      "metadata": {},
      "source": [
        "刪除不必要的欄位"
      ]
    },
    {
      "cell_type": "code",
      "execution_count": 403,
      "metadata": {},
      "outputs": [
        {
          "data": {
            "text/html": [
              "<div>\n",
              "<style scoped>\n",
              "    .dataframe tbody tr th:only-of-type {\n",
              "        vertical-align: middle;\n",
              "    }\n",
              "\n",
              "    .dataframe tbody tr th {\n",
              "        vertical-align: top;\n",
              "    }\n",
              "\n",
              "    .dataframe thead th {\n",
              "        text-align: right;\n",
              "    }\n",
              "</style>\n",
              "<table border=\"1\" class=\"dataframe\">\n",
              "  <thead>\n",
              "    <tr style=\"text-align: right;\">\n",
              "      <th></th>\n",
              "      <th>id</th>\n",
              "      <th>store_nbr</th>\n",
              "      <th>onpromotion</th>\n",
              "      <th>dcoilwtico</th>\n",
              "      <th>cluster</th>\n",
              "      <th>transactions</th>\n",
              "      <th>year</th>\n",
              "      <th>month</th>\n",
              "      <th>day</th>\n",
              "      <th>day_of_week</th>\n",
              "      <th>longitude</th>\n",
              "      <th>latitude</th>\n",
              "      <th>isHoliday</th>\n",
              "      <th>isEvent</th>\n",
              "      <th>store_type_A</th>\n",
              "      <th>store_type_B</th>\n",
              "      <th>store_type_C</th>\n",
              "      <th>store_type_D</th>\n",
              "      <th>store_type_E</th>\n",
              "    </tr>\n",
              "  </thead>\n",
              "  <tbody>\n",
              "    <tr>\n",
              "      <th>0</th>\n",
              "      <td>3000888</td>\n",
              "      <td>1</td>\n",
              "      <td>0.000000</td>\n",
              "      <td>0.319392</td>\n",
              "      <td>13</td>\n",
              "      <td>NaN</td>\n",
              "      <td>2017</td>\n",
              "      <td>8</td>\n",
              "      <td>16</td>\n",
              "      <td>2</td>\n",
              "      <td>-78.467838</td>\n",
              "      <td>-0.180653</td>\n",
              "      <td>False</td>\n",
              "      <td>0</td>\n",
              "      <td>False</td>\n",
              "      <td>False</td>\n",
              "      <td>False</td>\n",
              "      <td>True</td>\n",
              "      <td>False</td>\n",
              "    </tr>\n",
              "    <tr>\n",
              "      <th>1</th>\n",
              "      <td>3000889</td>\n",
              "      <td>1</td>\n",
              "      <td>0.000000</td>\n",
              "      <td>0.319392</td>\n",
              "      <td>13</td>\n",
              "      <td>NaN</td>\n",
              "      <td>2017</td>\n",
              "      <td>8</td>\n",
              "      <td>16</td>\n",
              "      <td>2</td>\n",
              "      <td>-78.467838</td>\n",
              "      <td>-0.180653</td>\n",
              "      <td>False</td>\n",
              "      <td>0</td>\n",
              "      <td>False</td>\n",
              "      <td>False</td>\n",
              "      <td>False</td>\n",
              "      <td>True</td>\n",
              "      <td>False</td>\n",
              "    </tr>\n",
              "    <tr>\n",
              "      <th>2</th>\n",
              "      <td>3000890</td>\n",
              "      <td>1</td>\n",
              "      <td>0.003096</td>\n",
              "      <td>0.319392</td>\n",
              "      <td>13</td>\n",
              "      <td>NaN</td>\n",
              "      <td>2017</td>\n",
              "      <td>8</td>\n",
              "      <td>16</td>\n",
              "      <td>2</td>\n",
              "      <td>-78.467838</td>\n",
              "      <td>-0.180653</td>\n",
              "      <td>False</td>\n",
              "      <td>0</td>\n",
              "      <td>False</td>\n",
              "      <td>False</td>\n",
              "      <td>False</td>\n",
              "      <td>True</td>\n",
              "      <td>False</td>\n",
              "    </tr>\n",
              "    <tr>\n",
              "      <th>3</th>\n",
              "      <td>3000891</td>\n",
              "      <td>1</td>\n",
              "      <td>0.030960</td>\n",
              "      <td>0.319392</td>\n",
              "      <td>13</td>\n",
              "      <td>NaN</td>\n",
              "      <td>2017</td>\n",
              "      <td>8</td>\n",
              "      <td>16</td>\n",
              "      <td>2</td>\n",
              "      <td>-78.467838</td>\n",
              "      <td>-0.180653</td>\n",
              "      <td>False</td>\n",
              "      <td>0</td>\n",
              "      <td>False</td>\n",
              "      <td>False</td>\n",
              "      <td>False</td>\n",
              "      <td>True</td>\n",
              "      <td>False</td>\n",
              "    </tr>\n",
              "    <tr>\n",
              "      <th>4</th>\n",
              "      <td>3000892</td>\n",
              "      <td>1</td>\n",
              "      <td>0.000000</td>\n",
              "      <td>0.319392</td>\n",
              "      <td>13</td>\n",
              "      <td>NaN</td>\n",
              "      <td>2017</td>\n",
              "      <td>8</td>\n",
              "      <td>16</td>\n",
              "      <td>2</td>\n",
              "      <td>-78.467838</td>\n",
              "      <td>-0.180653</td>\n",
              "      <td>False</td>\n",
              "      <td>0</td>\n",
              "      <td>False</td>\n",
              "      <td>False</td>\n",
              "      <td>False</td>\n",
              "      <td>True</td>\n",
              "      <td>False</td>\n",
              "    </tr>\n",
              "    <tr>\n",
              "      <th>...</th>\n",
              "      <td>...</td>\n",
              "      <td>...</td>\n",
              "      <td>...</td>\n",
              "      <td>...</td>\n",
              "      <td>...</td>\n",
              "      <td>...</td>\n",
              "      <td>...</td>\n",
              "      <td>...</td>\n",
              "      <td>...</td>\n",
              "      <td>...</td>\n",
              "      <td>...</td>\n",
              "      <td>...</td>\n",
              "      <td>...</td>\n",
              "      <td>...</td>\n",
              "      <td>...</td>\n",
              "      <td>...</td>\n",
              "      <td>...</td>\n",
              "      <td>...</td>\n",
              "      <td>...</td>\n",
              "    </tr>\n",
              "    <tr>\n",
              "      <th>28507</th>\n",
              "      <td>3029395</td>\n",
              "      <td>9</td>\n",
              "      <td>0.001548</td>\n",
              "      <td>0.494297</td>\n",
              "      <td>6</td>\n",
              "      <td>NaN</td>\n",
              "      <td>2017</td>\n",
              "      <td>8</td>\n",
              "      <td>31</td>\n",
              "      <td>3</td>\n",
              "      <td>-78.467838</td>\n",
              "      <td>-0.180653</td>\n",
              "      <td>False</td>\n",
              "      <td>0</td>\n",
              "      <td>False</td>\n",
              "      <td>True</td>\n",
              "      <td>False</td>\n",
              "      <td>False</td>\n",
              "      <td>False</td>\n",
              "    </tr>\n",
              "    <tr>\n",
              "      <th>28508</th>\n",
              "      <td>3029396</td>\n",
              "      <td>9</td>\n",
              "      <td>0.000000</td>\n",
              "      <td>0.494297</td>\n",
              "      <td>6</td>\n",
              "      <td>NaN</td>\n",
              "      <td>2017</td>\n",
              "      <td>8</td>\n",
              "      <td>31</td>\n",
              "      <td>3</td>\n",
              "      <td>-78.467838</td>\n",
              "      <td>-0.180653</td>\n",
              "      <td>False</td>\n",
              "      <td>0</td>\n",
              "      <td>False</td>\n",
              "      <td>True</td>\n",
              "      <td>False</td>\n",
              "      <td>False</td>\n",
              "      <td>False</td>\n",
              "    </tr>\n",
              "    <tr>\n",
              "      <th>28509</th>\n",
              "      <td>3029397</td>\n",
              "      <td>9</td>\n",
              "      <td>0.001548</td>\n",
              "      <td>0.494297</td>\n",
              "      <td>6</td>\n",
              "      <td>NaN</td>\n",
              "      <td>2017</td>\n",
              "      <td>8</td>\n",
              "      <td>31</td>\n",
              "      <td>3</td>\n",
              "      <td>-78.467838</td>\n",
              "      <td>-0.180653</td>\n",
              "      <td>False</td>\n",
              "      <td>0</td>\n",
              "      <td>False</td>\n",
              "      <td>True</td>\n",
              "      <td>False</td>\n",
              "      <td>False</td>\n",
              "      <td>False</td>\n",
              "    </tr>\n",
              "    <tr>\n",
              "      <th>28510</th>\n",
              "      <td>3029398</td>\n",
              "      <td>9</td>\n",
              "      <td>0.013932</td>\n",
              "      <td>0.494297</td>\n",
              "      <td>6</td>\n",
              "      <td>NaN</td>\n",
              "      <td>2017</td>\n",
              "      <td>8</td>\n",
              "      <td>31</td>\n",
              "      <td>3</td>\n",
              "      <td>-78.467838</td>\n",
              "      <td>-0.180653</td>\n",
              "      <td>False</td>\n",
              "      <td>0</td>\n",
              "      <td>False</td>\n",
              "      <td>True</td>\n",
              "      <td>False</td>\n",
              "      <td>False</td>\n",
              "      <td>False</td>\n",
              "    </tr>\n",
              "    <tr>\n",
              "      <th>28511</th>\n",
              "      <td>3029399</td>\n",
              "      <td>9</td>\n",
              "      <td>0.000000</td>\n",
              "      <td>0.494297</td>\n",
              "      <td>6</td>\n",
              "      <td>NaN</td>\n",
              "      <td>2017</td>\n",
              "      <td>8</td>\n",
              "      <td>31</td>\n",
              "      <td>3</td>\n",
              "      <td>-78.467838</td>\n",
              "      <td>-0.180653</td>\n",
              "      <td>False</td>\n",
              "      <td>0</td>\n",
              "      <td>False</td>\n",
              "      <td>True</td>\n",
              "      <td>False</td>\n",
              "      <td>False</td>\n",
              "      <td>False</td>\n",
              "    </tr>\n",
              "  </tbody>\n",
              "</table>\n",
              "<p>28512 rows × 19 columns</p>\n",
              "</div>"
            ],
            "text/plain": [
              "            id  store_nbr  onpromotion  dcoilwtico  cluster  transactions  \\\n",
              "0      3000888          1     0.000000    0.319392       13           NaN   \n",
              "1      3000889          1     0.000000    0.319392       13           NaN   \n",
              "2      3000890          1     0.003096    0.319392       13           NaN   \n",
              "3      3000891          1     0.030960    0.319392       13           NaN   \n",
              "4      3000892          1     0.000000    0.319392       13           NaN   \n",
              "...        ...        ...          ...         ...      ...           ...   \n",
              "28507  3029395          9     0.001548    0.494297        6           NaN   \n",
              "28508  3029396          9     0.000000    0.494297        6           NaN   \n",
              "28509  3029397          9     0.001548    0.494297        6           NaN   \n",
              "28510  3029398          9     0.013932    0.494297        6           NaN   \n",
              "28511  3029399          9     0.000000    0.494297        6           NaN   \n",
              "\n",
              "       year  month  day  day_of_week  longitude  latitude  isHoliday  isEvent  \\\n",
              "0      2017      8   16            2 -78.467838 -0.180653      False        0   \n",
              "1      2017      8   16            2 -78.467838 -0.180653      False        0   \n",
              "2      2017      8   16            2 -78.467838 -0.180653      False        0   \n",
              "3      2017      8   16            2 -78.467838 -0.180653      False        0   \n",
              "4      2017      8   16            2 -78.467838 -0.180653      False        0   \n",
              "...     ...    ...  ...          ...        ...       ...        ...      ...   \n",
              "28507  2017      8   31            3 -78.467838 -0.180653      False        0   \n",
              "28508  2017      8   31            3 -78.467838 -0.180653      False        0   \n",
              "28509  2017      8   31            3 -78.467838 -0.180653      False        0   \n",
              "28510  2017      8   31            3 -78.467838 -0.180653      False        0   \n",
              "28511  2017      8   31            3 -78.467838 -0.180653      False        0   \n",
              "\n",
              "       store_type_A  store_type_B  store_type_C  store_type_D  store_type_E  \n",
              "0             False         False         False          True         False  \n",
              "1             False         False         False          True         False  \n",
              "2             False         False         False          True         False  \n",
              "3             False         False         False          True         False  \n",
              "4             False         False         False          True         False  \n",
              "...             ...           ...           ...           ...           ...  \n",
              "28507         False          True         False         False         False  \n",
              "28508         False          True         False         False         False  \n",
              "28509         False          True         False         False         False  \n",
              "28510         False          True         False         False         False  \n",
              "28511         False          True         False         False         False  \n",
              "\n",
              "[28512 rows x 19 columns]"
            ]
          },
          "execution_count": 403,
          "metadata": {},
          "output_type": "execute_result"
        }
      ],
      "source": [
        "t_df = test_df.drop(columns=['family', 'description', 'date', 'event_type', 'city', 'state','locale_name','transferred','locale'])  \n",
        "t_df"
      ]
    },
    {
      "cell_type": "markdown",
      "metadata": {},
      "source": [
        "### 預測"
      ]
    },
    {
      "cell_type": "code",
      "execution_count": 404,
      "metadata": {},
      "outputs": [],
      "source": [
        "# predict\n",
        "X_test = t_df.drop(['id'], axis=1)\n",
        "y_pred = xgb_model.predict(X_test)\n",
        "\n",
        "\n",
        "submission_xgb = pd.DataFrame({\n",
        "    \"id\": t_df[\"id\"],\n",
        "    \"sales\": y_pred\n",
        "})\n",
        "\n",
        "submission_xgb.to_csv(\"submission_xgb.csv\", index=False)"
      ]
    },
    {
      "cell_type": "code",
      "execution_count": 405,
      "metadata": {},
      "outputs": [],
      "source": [
        "# predict\n",
        "y_pred = rf_model.predict(X_test)\n",
        "\n",
        "submission_rf = pd.DataFrame({\n",
        "    \"id\": t_df[\"id\"],\n",
        "    \"sales\": y_pred\n",
        "})\n",
        "\n",
        "submission_rf.to_csv(\"submission_rf.csv\", index=False)"
      ]
    },
    {
      "cell_type": "code",
      "execution_count": 406,
      "metadata": {},
      "outputs": [],
      "source": [
        "# predict\n",
        "y_pred = lgb_model.predict(X_test)\n",
        "\n",
        "submission_lgb = pd.DataFrame({\n",
        "    \"id\": t_df[\"id\"],\n",
        "    \"sales\": y_pred\n",
        "})\n",
        "\n",
        "submission_lgb.to_csv(\"submission_lgb.csv\", index=False)"
      ]
    },
    {
      "cell_type": "code",
      "execution_count": 407,
      "metadata": {},
      "outputs": [],
      "source": [
        "# predict\n",
        "y_pred = cat_model.predict(X_test)\n",
        "\n",
        "submission_cat = pd.DataFrame({\n",
        "    \"id\": t_df[\"id\"],\n",
        "    \"sales\": y_pred\n",
        "})\n",
        "\n",
        "submission_cat.to_csv(\"submission_cat.csv\", index=False)"
      ]
    }
  ],
  "metadata": {
    "colab": {
      "provenance": []
    },
    "kernelspec": {
      "display_name": "Python 3",
      "name": "python3"
    },
    "language_info": {
      "codemirror_mode": {
        "name": "ipython",
        "version": 3
      },
      "file_extension": ".py",
      "mimetype": "text/x-python",
      "name": "python",
      "nbconvert_exporter": "python",
      "pygments_lexer": "ipython3",
      "version": "3.9.19"
    }
  },
  "nbformat": 4,
  "nbformat_minor": 0
}
